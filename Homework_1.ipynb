{
 "cells": [
  {
   "cell_type": "markdown",
   "metadata": {},
   "source": [
    "***Домашнее задание №1***"
   ]
  },
  {
   "cell_type": "markdown",
   "metadata": {},
   "source": [
    "****1.**** Из колоды в 52 карты извлекаются случайным образом 4 карты. \n",
    "\n",
    "a) Найти вероятность того, что все карты – крести. \n",
    "\n",
    "б) Найти вероятность, что среди 4-х карт окажется хотя бы один туз."
   ]
  },
  {
   "cell_type": "code",
   "execution_count": 1,
   "metadata": {},
   "outputs": [],
   "source": [
    "import math as mf\n"
   ]
  },
  {
   "cell_type": "code",
   "execution_count": 2,
   "metadata": {},
   "outputs": [
    {
     "name": "stdout",
     "output_type": "stream",
     "text": [
      "Число способов, которым можно выбрать 4 карты из набора карт одной масти: 715\n",
      "Число способов, которым можно выбрать 4 карты из всей колоды: 270725\n",
      "выроятность выбрать все 4 карты одной масти, например, трефы: 0.0026410564225690276\n"
     ]
    }
   ],
   "source": [
    "# a)\n",
    "\n",
    "total_cards = 52\n",
    "clubs_num = 13\n",
    "selected_cards = 4\n",
    "\n",
    "c_clubs = mf.comb(clubs_num, selected_cards)\n",
    "print('Число способов, которым можно выбрать 4 карты из набора карт одной масти:', c_clubs)\n",
    "c_total = mf.comb(total_cards, selected_cards)\n",
    "print('Число способов, которым можно выбрать 4 карты из всей колоды:', c_total)\n",
    "prob = c_clubs / c_total\n",
    "print('выроятность выбрать все 4 карты одной масти, например, трефы:', prob)"
   ]
  },
  {
   "cell_type": "code",
   "execution_count": 3,
   "metadata": {},
   "outputs": [
    {
     "name": "stdout",
     "output_type": "stream",
     "text": [
      "Вероятность выбрать 4 карты, из которых хотя бы одна будет туз: 0.2812632745405855\n"
     ]
    }
   ],
   "source": [
    "# б)\n",
    "\n",
    "without_aces = 48\n",
    "\n",
    "# 1 туз из 4\n",
    "ace1 = 4\n",
    "# остальные карты\n",
    "non_ace1 = mf.comb(without_aces, 3)\n",
    "total_ace1 = non_ace1 * ace1\n",
    "\n",
    "# 2 туза из 4\n",
    "ace2 = mf.comb(4, 2)\n",
    "# остальные карты\n",
    "non_ace2 = mf.comb(without_aces, 2)\n",
    "total_ace2 = non_ace2 * ace2\n",
    "\n",
    "# 3 туза из 4\n",
    "ace3 = mf.comb(4, 3)\n",
    "# остальные карты\n",
    "non_ace3 = mf.comb(without_aces, 1)\n",
    "total_ace3 = non_ace3 * ace3\n",
    "\n",
    "# 4 туза из 4\n",
    "total_ace4 = 1\n",
    "\n",
    "prob = (total_ace1 + total_ace2 + total_ace3 + total_ace4) / c_total\n",
    "print('Вероятность выбрать 4 карты, из которых хотя бы одна будет туз:', prob)"
   ]
  },
  {
   "cell_type": "markdown",
   "metadata": {},
   "source": [
    "****2.**** На входной двери подъезда установлен кодовый замок, содержащий десять кнопок с цифрами от 0 до 9. Код содержит три цифры, которые нужно нажать одновременно. Какова вероятность того, что человек, не знающий код, откроет дверь с первой попытки?"
   ]
  },
  {
   "cell_type": "code",
   "execution_count": 4,
   "metadata": {},
   "outputs": [
    {
     "name": "stdout",
     "output_type": "stream",
     "text": [
      "Вероятность угадать код с первого раза: 0.008333333333333333\n"
     ]
    }
   ],
   "source": [
    "prob = 1 / mf.comb(10, 3)\n",
    "print('Вероятность угадать код с первого раза:', prob)"
   ]
  },
  {
   "cell_type": "markdown",
   "metadata": {},
   "source": [
    "****3.**** В ящике имеется 15 деталей, из которых 9 окрашены. Рабочий случайным образом извлекает 3 детали. Какова вероятность того, что все извлеченные детали окрашены?"
   ]
  },
  {
   "cell_type": "code",
   "execution_count": 5,
   "metadata": {},
   "outputs": [
    {
     "name": "stdout",
     "output_type": "stream",
     "text": [
      "Вероятность выбрать 3 окрашенные детали 0.18461538461538463\n"
     ]
    }
   ],
   "source": [
    "#  способы выбрать 3 детали из окрашенных\n",
    "c_colored_parts = mf.comb(9, 3)\n",
    "\n",
    "# способы выбрать 3 детали из 15\n",
    "c_parts_total = mf.comb(15, 3)\n",
    "\n",
    "print('Вероятность выбрать 3 окрашенные детали', c_colored_parts / c_parts_total)"
   ]
  },
  {
   "cell_type": "markdown",
   "metadata": {},
   "source": [
    "****4.****\n",
    "В лотерее 100 билетов. Из них 2 выигрышных. Какова вероятность того, что 2 приобретенных билета окажутся выигрышными?"
   ]
  },
  {
   "cell_type": "code",
   "execution_count": 6,
   "metadata": {},
   "outputs": [
    {
     "name": "stdout",
     "output_type": "stream",
     "text": [
      "Вероятность купить два выигрышных билета: 0.00020202020202020202\n"
     ]
    }
   ],
   "source": [
    "print('Вероятность купить два выигрышных билета:', 2/100 * 1/99)"
   ]
  }
 ],
 "metadata": {
  "kernelspec": {
   "display_name": "Python 3",
   "language": "python",
   "name": "python3"
  },
  "language_info": {
   "codemirror_mode": {
    "name": "ipython",
    "version": 3
   },
   "file_extension": ".py",
   "mimetype": "text/x-python",
   "name": "python",
   "nbconvert_exporter": "python",
   "pygments_lexer": "ipython3",
   "version": "3.8.5"
  }
 },
 "nbformat": 4,
 "nbformat_minor": 4
}
